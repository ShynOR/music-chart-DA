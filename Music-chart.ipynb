{
 "cells": [
  {
   "cell_type": "markdown",
   "id": "bd4668aa-4186-4993-a0b5-d27c63e96bd1",
   "metadata": {},
   "source": [
    "### 1. Data Preparation"
   ]
  },
  {
   "cell_type": "code",
   "execution_count": 1,
   "id": "81d1e26a-a582-4bdc-8340-03ea8793514b",
   "metadata": {},
   "outputs": [],
   "source": [
    "#import necessity libraries\n",
    "\n",
    "from pyspark import SparkConf,SparkContext\n",
    "from pyspark.sql import SparkSession\n",
    "from py4j.java_gateway import java_import\n",
    "import spark\n",
    "import pyspark.sql.types as t\n",
    "import pyspark.sql.functions as f\n",
    "from pyspark.sql.functions import *\n",
    "\n",
    "import seaborn as sns\n",
    "import matplotlib.dates as mdates\n",
    "import matplotlib.pyplot as plt\n",
    "import numpy as np"
   ]
  },
  {
   "cell_type": "markdown",
   "id": "84adb3b6-ed93-4b29-afbe-342394470191",
   "metadata": {},
   "source": [
    "### 2. Create Spark DataFrame"
   ]
  },
  {
   "cell_type": "code",
   "execution_count": 2,
   "id": "661418fd-6ab2-4ad4-9ea1-1a1a65ae38ce",
   "metadata": {},
   "outputs": [
    {
     "name": "stderr",
     "output_type": "stream",
     "text": [
      "Setting default log level to \"WARN\".\n",
      "To adjust logging level use sc.setLogLevel(newLevel). For SparkR, use setLogLevel(newLevel).\n",
      "23/06/17 15:55:09 WARN NativeCodeLoader: Unable to load native-hadoop library for your platform... using builtin-java classes where applicable\n"
     ]
    },
    {
     "name": "stdout",
     "output_type": "stream",
     "text": [
      "The file size of 'listenings.csv' is: 1.01 GB\n"
     ]
    }
   ],
   "source": [
    "# Create a Spark Context\n",
    "sc = SparkContext.getOrCreate()\n",
    "sc.setLogLevel(\"WARN\")\n",
    "sc.setLogLevel(\"ERROR\")\n",
    "\n",
    "# Create a SparkSession\n",
    "spark = SparkSession.builder.getOrCreate()\n",
    "\n",
    "# Import the necessary Java classes\n",
    "java_import(spark._jvm, 'org.apache.hadoop.fs.Path')\n",
    "java_import(spark._jvm, 'org.apache.hadoop.fs.FileSystem')\n",
    "\n",
    "# Specify the path to the CSV file - name of the CSV file\n",
    "file_path = 'listenings.csv'\n",
    "\n",
    "# Get the Hadoop FileSystem object\n",
    "fs = spark._jvm.FileSystem.get(spark._jsc.hadoopConfiguration())\n",
    "\n",
    "# Create a Path object\n",
    "path = spark._jvm.Path(file_path)\n",
    "\n",
    "# Check if the file exists\n",
    "if fs.exists(path):\n",
    "    # Get the FileStatus object\n",
    "    file_status = fs.getFileStatus(path)\n",
    "\n",
    "    # Get the file size in bytes\n",
    "    file_size = file_status.getLen()\n",
    "\n",
    "    # Convert the file size to gigabytes\n",
    "    file_size_gb = file_size / (1024**3)\n",
    "\n",
    "    # Print the file size in GBs\n",
    "    print(f\"The file size of '{file_path}' is: {file_size_gb:.2f} GB\")\n",
    "else:\n",
    "    print(f\"The file '{file_path}' does not exist.\")\n"
   ]
  },
  {
   "cell_type": "code",
   "execution_count": 3,
   "id": "2648a392-b5f5-4225-823f-c8aa9bc935c1",
   "metadata": {},
   "outputs": [
    {
     "name": "stderr",
     "output_type": "stream",
     "text": [
      "                                                                                \r"
     ]
    }
   ],
   "source": [
    "#reading the csv file\n",
    "listening_df = spark.read.format('csv').option('inferSchema',True).option('header',True).load('listenings.csv')"
   ]
  },
  {
   "cell_type": "code",
   "execution_count": 4,
   "id": "5d4a365a-9785-4043-b93e-49455fb1634d",
   "metadata": {},
   "outputs": [
    {
     "name": "stdout",
     "output_type": "stream",
     "text": [
      "+-----------+-------------+--------------------+---------------+--------------------+\n",
      "|    user_id|         date|               track|         artist|               album|\n",
      "+-----------+-------------+--------------------+---------------+--------------------+\n",
      "|000Silenced|1299680100000|           Price Tag|       Jessie J|         Who You Are|\n",
      "|000Silenced|1299679920000|Price Tag (Acoust...|       Jessie J|           Price Tag|\n",
      "|000Silenced|1299679440000|Be Mine! (Ballad ...|          Robyn|            Be Mine!|\n",
      "|000Silenced|1299679200000|            Acapella|          Kelis|            Acapella|\n",
      "|000Silenced|1299675660000|   I'm Not Invisible|      The Tease|   I'm Not Invisible|\n",
      "|000Silenced|1297511400000|Bounce (Feat NORE...|       MSTRKRFT|         Fist of God|\n",
      "|000Silenced|1294498440000|Don't Stop The Mu...|        Rihanna|Addicted 2 Bassli...|\n",
      "|000Silenced|1292438340000|               ObZen|      Meshuggah|               ObZen|\n",
      "|000Silenced|1292437740000|   Yama's Messengers|         Gojira|The Way of All Flesh|\n",
      "|000Silenced|1292436360000|On the Brink of E...|   Napalm Death|Time Waits For No...|\n",
      "|000Silenced|1292436360000|On the Brink of E...|   Napalm Death|Time Waits For No...|\n",
      "|000Silenced|1292435940000|        In Deference|   Napalm Death|      Smear Campaign|\n",
      "|000Silenced|1292434920000|      Post(?)organic|    Decapitated|Organic Hallucinosis|\n",
      "|000Silenced|1292434560000|        Mind Feeders|   Dom & Roland| No Strings Attached|\n",
      "|000Silenced|1292434320000|Necrosadistic War...|Cannibal Corpse|                Kill|\n",
      "|000Silenced|1292365560000|     Dance All Night|   Dom & Roland|          Chronology|\n",
      "|000Silenced|1292365260000|          Late Night|   Dom & Roland|          Chronology|\n",
      "|000Silenced|1292365020000|          Freak Seen|   Dom & Roland|          Chronology|\n",
      "|000Silenced|1292364720000|Paradrenasite (Hi...|   Dom & Roland|          Chronology|\n",
      "|000Silenced|1292364300000|               Rhino|   Dom & Roland|          Chronology|\n",
      "+-----------+-------------+--------------------+---------------+--------------------+\n",
      "only showing top 20 rows\n",
      "\n"
     ]
    }
   ],
   "source": [
    "#Shows the first 20 rows\n",
    "listening_df.show()"
   ]
  },
  {
   "cell_type": "markdown",
   "id": "3aef73b7-690f-4929-8c01-49b687a4d5ed",
   "metadata": {},
   "source": [
    "- Show the schema all the attributes"
   ]
  },
  {
   "cell_type": "code",
   "execution_count": 5,
   "id": "c3984eb4-bf72-4137-8561-e22b65c05a32",
   "metadata": {},
   "outputs": [
    {
     "name": "stdout",
     "output_type": "stream",
     "text": [
      "root\n",
      " |-- user_id: string (nullable = true)\n",
      " |-- date: long (nullable = true)\n",
      " |-- track: string (nullable = true)\n",
      " |-- artist: string (nullable = true)\n",
      " |-- album: string (nullable = true)\n",
      "\n"
     ]
    }
   ],
   "source": [
    "listening_df.printSchema()"
   ]
  },
  {
   "cell_type": "markdown",
   "id": "e63d1917-532d-42a4-b323-74d69aec6307",
   "metadata": {},
   "source": [
    "- Show the deescribe for the attributes in the columns\n"
   ]
  },
  {
   "cell_type": "code",
   "execution_count": 6,
   "id": "64c97573-e8fb-4ec5-9cbc-4387dccd1394",
   "metadata": {},
   "outputs": [
    {
     "name": "stderr",
     "output_type": "stream",
     "text": [
      "[Stage 5:>                                                          (0 + 1) / 1]\r"
     ]
    },
    {
     "name": "stdout",
     "output_type": "stream",
     "text": [
      "+-------+------------------+--------------------+---------+--------------------+--------+\n",
      "|summary|           user_id|                date|    track|              artist|   album|\n",
      "+-------+------------------+--------------------+---------+--------------------+--------+\n",
      "|  count|          14650594|            14650594| 14650364|            14650159|13759457|\n",
      "|   mean|2438208.8012805856|1.384526618053161E12|      NaN|            Infinity|Infinity|\n",
      "| stddev|  5844371.34494618|8.346146043840077E10|      NaN|                 NaN|     NaN|\n",
      "|    min|            --Seph|                   0|         |                    |        |\n",
      "|    max|           zzzzita|       1460547615000|�� ��k  �|￼Frankie & The He...|    💧💧|\n",
      "+-------+------------------+--------------------+---------+--------------------+--------+\n",
      "\n"
     ]
    },
    {
     "name": "stderr",
     "output_type": "stream",
     "text": [
      "                                                                                \r"
     ]
    }
   ],
   "source": [
    "listening_df.describe().show()"
   ]
  },
  {
   "cell_type": "markdown",
   "id": "026ca123-c951-4937-a2f6-bd2fc7e89817",
   "metadata": {},
   "source": [
    "- Show the NaN in each of the column"
   ]
  },
  {
   "cell_type": "code",
   "execution_count": 7,
   "id": "0b48a725-c4e4-403c-aaee-9b5c8ee1da3e",
   "metadata": {},
   "outputs": [
    {
     "name": "stderr",
     "output_type": "stream",
     "text": [
      "[Stage 6:====================================================>      (8 + 1) / 9]\r"
     ]
    },
    {
     "name": "stdout",
     "output_type": "stream",
     "text": [
      "+-------+----+-----+------+------+\n",
      "|user_id|date|track|artist| album|\n",
      "+-------+----+-----+------+------+\n",
      "|      0|   0|  235|   435|891137|\n",
      "+-------+----+-----+------+------+\n",
      "\n"
     ]
    },
    {
     "name": "stderr",
     "output_type": "stream",
     "text": [
      "                                                                                \r"
     ]
    }
   ],
   "source": [
    "listening_df.select([count(when(isnan(c) | col(c).isNull(), c)).alias(c) for c in listening_df.columns]).show()"
   ]
  },
  {
   "cell_type": "markdown",
   "id": "5097d88d-1172-405b-85ca-19c593644bc4",
   "metadata": {},
   "source": [
    "- Drop the rows that has NaN and drop the Duplicates"
   ]
  },
  {
   "cell_type": "code",
   "execution_count": 8,
   "id": "19178570-64bc-4630-b493-5f076ac62ab3",
   "metadata": {},
   "outputs": [],
   "source": [
    "listening_df = listening_df.na.drop(how='any')\n",
    "listening_df = listening_df.dropDuplicates()"
   ]
  },
  {
   "cell_type": "code",
   "execution_count": 9,
   "id": "210a8f68-e241-4a2a-b0e3-19accaf14667",
   "metadata": {},
   "outputs": [
    {
     "name": "stderr",
     "output_type": "stream",
     "text": [
      "[Stage 11:====================================>                    (9 + 5) / 14]\r"
     ]
    },
    {
     "name": "stdout",
     "output_type": "stream",
     "text": [
      "+-------+----+-----+------+-----+\n",
      "|user_id|date|track|artist|album|\n",
      "+-------+----+-----+------+-----+\n",
      "|      0|   0|    4|     0|    0|\n",
      "+-------+----+-----+------+-----+\n",
      "\n"
     ]
    },
    {
     "name": "stderr",
     "output_type": "stream",
     "text": [
      "                                                                                \r"
     ]
    }
   ],
   "source": [
    "#double check again if the null/NaN values have been deleted or not\n",
    "listening_df.select([count(when(isnan(c) | col(c).isNull(), c)).alias(c) for c in listening_df.columns]).show()"
   ]
  },
  {
   "cell_type": "markdown",
   "id": "26b6553a-3504-4179-9d65-4209b5f0686a",
   "metadata": {},
   "source": [
    "- Drop the unnecessary data"
   ]
  },
  {
   "cell_type": "code",
   "execution_count": 10,
   "id": "bce59657-01ce-4815-adf1-a253b1f68aec",
   "metadata": {},
   "outputs": [],
   "source": [
    "listening_df = listening_df.drop('date')"
   ]
  },
  {
   "cell_type": "code",
   "execution_count": 11,
   "id": "8c507e2c-9f45-4c31-a745-d05b3c16bfcd",
   "metadata": {},
   "outputs": [
    {
     "name": "stderr",
     "output_type": "stream",
     "text": [
      "[Stage 15:===================================================>      (8 + 1) / 9]\r"
     ]
    },
    {
     "name": "stdout",
     "output_type": "stream",
     "text": [
      "+---------------+--------------------+--------------------+--------------------+\n",
      "|        user_id|               track|              artist|               album|\n",
      "+---------------+--------------------+--------------------+--------------------+\n",
      "|beast_of_burden|#285 Trance Aroun...|      Above & Beyond|Above & Beyond: T...|\n",
      "|     BrigBother|   #543: Wake Up Now|Chicago Public Media|  This American Life|\n",
      "|  burntheaction|          #thatPOWER|             william|          #thatPOWER|\n",
      "|          beggz|             '74-'75|        The Connells|                Ring|\n",
      "|      Adam_john|                'Hey| It's Your Funera...|        Alexisonfire|\n",
      "|        anuragT|               (-_-)|       Adebisi Shank|This is the secon...|\n",
      "| Brand_New_Hero|(Aquatic Cupid's)...|Thunderbirds Are ...|       Justamustache|\n",
      "|        adams87|     (Cant Be) Fixed|          Spineshank|The Height Of Cal...|\n",
      "|       buckbeak|(Don't Fear) The ...|    Blue Öyster Cult|The Essential Blu...|\n",
      "|         Akuzed|(Don't Fear) The ...|    Blue Öyster Cult|Shaun White Snowb...|\n",
      "|   ascendancy18|(I Wanna Live in ...|Noel Gallagher's ...|Noel Gallagher's ...|\n",
      "|       afterism|(I Won't Say) I'm...|Alan Menken / Dav...|            Hercules|\n",
      "|       beck_tay|(Love Is Like A) ...|           Peggy Sue|Peggy Sue Play Th...|\n",
      "|     BenzoMay44|              (Napa)|                DIIV|       Is the Is Are|\n",
      "|       Benji_En|(Wanna Get To Kno...|        Shania Twain|                 Up!|\n",
      "|          aj250|(What's So Funny ...| Love And Underst...|    A Perfect Circle|\n",
      "|   BertaWooster|(You're The) Devi...|       Elvis Presley|   Elvis: 30 #1 Hits|\n",
      "| bossanova-baby|(Your Love Keeps ...|       Jackie Wilson|       Soul Classics|\n",
      "|      benjwoods|    (so outta reach)|           Kurt Vile|      So Outta Reach|\n",
      "|        alk3-mh|01 - Mika - Grace...|                Mika|Life in Cartoon M...|\n",
      "+---------------+--------------------+--------------------+--------------------+\n",
      "only showing top 20 rows\n",
      "\n"
     ]
    },
    {
     "name": "stderr",
     "output_type": "stream",
     "text": [
      "                                                                                \r"
     ]
    }
   ],
   "source": [
    "listening_df.show()"
   ]
  },
  {
   "cell_type": "markdown",
   "id": "2f221679-bc94-498d-9e9f-461ee51cc927",
   "metadata": {},
   "source": [
    "#### Exploratory Data Analyst"
   ]
  },
  {
   "cell_type": "markdown",
   "id": "0dcd3d63-2706-4af9-bda8-36354bf2fc55",
   "metadata": {},
   "source": [
    "### Q1. Find distinct value in the 'user_id' column"
   ]
  },
  {
   "cell_type": "code",
   "execution_count": 12,
   "id": "0c9ad468-5ddd-41d8-9f9a-9a779c2e70c5",
   "metadata": {},
   "outputs": [
    {
     "name": "stderr",
     "output_type": "stream",
     "text": [
      "                                                                                \r"
     ]
    },
    {
     "data": {
      "text/plain": [
       "74176"
      ]
     },
     "execution_count": 12,
     "metadata": {},
     "output_type": "execute_result"
    }
   ],
   "source": [
    "listening_df.select(f.countDistinct('user_id')).first()[0]"
   ]
  },
  {
   "cell_type": "markdown",
   "id": "62961c6a-f788-49d8-83a4-5b8a83bec553",
   "metadata": {},
   "source": [
    "- Check the shape of the dataset"
   ]
  },
  {
   "cell_type": "code",
   "execution_count": 13,
   "id": "e4e0948d-118a-4c5f-9d6a-e4dc136e0f9f",
   "metadata": {},
   "outputs": [
    {
     "name": "stderr",
     "output_type": "stream",
     "text": [
      "[Stage 26:====================================>                    (9 + 5) / 14]\r"
     ]
    },
    {
     "name": "stdout",
     "output_type": "stream",
     "text": [
      "(9981664, 4)\n"
     ]
    },
    {
     "name": "stderr",
     "output_type": "stream",
     "text": [
      "                                                                                \r"
     ]
    }
   ],
   "source": [
    "shape = (listening_df.count(), len(listening_df.columns))\n",
    "print(shape)"
   ]
  },
  {
   "cell_type": "markdown",
   "id": "742be290-3fc3-49b5-b68f-dbc7092d2692",
   "metadata": {},
   "source": [
    "### ---------------------------- Create the Template View - called 'utilization' ----------------------------"
   ]
  },
  {
   "cell_type": "code",
   "execution_count": 14,
   "id": "a77f8116-b8a6-4fae-82e8-f0f451231b39",
   "metadata": {},
   "outputs": [],
   "source": [
    "listening_df.createOrReplaceTempView(\"utilization\")"
   ]
  },
  {
   "cell_type": "markdown",
   "id": "4b4ec8f5-f0f7-4097-a1f6-c310e3dace5a",
   "metadata": {},
   "source": [
    "### Q2: Select only 2 columns: tracks and artist"
   ]
  },
  {
   "cell_type": "code",
   "execution_count": 15,
   "id": "8d6e9027-32fb-4659-8373-c831ccd274ae",
   "metadata": {},
   "outputs": [],
   "source": [
    "### Select the expected columns\n",
    "q2 = listening_df.select('artist','track') #SQL -> \"Select artist, track from ultilization\""
   ]
  },
  {
   "cell_type": "code",
   "execution_count": 16,
   "id": "ac8589d5-cfb4-40ad-84ef-2c89437c331d",
   "metadata": {},
   "outputs": [
    {
     "name": "stderr",
     "output_type": "stream",
     "text": [
      "[Stage 30:======================================>                   (6 + 3) / 9]\r"
     ]
    },
    {
     "name": "stdout",
     "output_type": "stream",
     "text": [
      "+--------------------+--------------------+\n",
      "|              artist|               track|\n",
      "+--------------------+--------------------+\n",
      "|      Above & Beyond|#285 Trance Aroun...|\n",
      "|Chicago Public Media|   #543: Wake Up Now|\n",
      "|             william|          #thatPOWER|\n",
      "|        The Connells|             '74-'75|\n",
      "| It's Your Funera...|                'Hey|\n",
      "|       Adebisi Shank|               (-_-)|\n",
      "|Thunderbirds Are ...|(Aquatic Cupid's)...|\n",
      "|          Spineshank|     (Cant Be) Fixed|\n",
      "|    Blue Öyster Cult|(Don't Fear) The ...|\n",
      "|    Blue Öyster Cult|(Don't Fear) The ...|\n",
      "|Noel Gallagher's ...|(I Wanna Live in ...|\n",
      "|Alan Menken / Dav...|(I Won't Say) I'm...|\n",
      "|           Peggy Sue|(Love Is Like A) ...|\n",
      "|                DIIV|              (Napa)|\n",
      "|        Shania Twain|(Wanna Get To Kno...|\n",
      "| Love And Underst...|(What's So Funny ...|\n",
      "|       Elvis Presley|(You're The) Devi...|\n",
      "|       Jackie Wilson|(Your Love Keeps ...|\n",
      "|           Kurt Vile|    (so outta reach)|\n",
      "|                Mika|01 - Mika - Grace...|\n",
      "+--------------------+--------------------+\n",
      "only showing top 20 rows\n",
      "\n"
     ]
    },
    {
     "name": "stderr",
     "output_type": "stream",
     "text": [
      "                                                                                \r"
     ]
    }
   ],
   "source": [
    "q2.show()"
   ]
  },
  {
   "cell_type": "markdown",
   "id": "9e98a42c-a7db-4191-a20f-c70375f27adc",
   "metadata": {},
   "source": [
    "### Q3. Lets find all the records of those users who have listend to Rihanna"
   ]
  },
  {
   "cell_type": "code",
   "execution_count": 17,
   "id": "16056333-1275-4026-a8c8-a3831e640ee2",
   "metadata": {},
   "outputs": [],
   "source": [
    "'''\n",
    "SELECT * \n",
    "FROM utilization \n",
    "WHERE artist == 'Rihanna'\n",
    "'''\n",
    "q3 = listening_df.select('*').filter(listening_df.artist == 'Rihanna')\n",
    "#q3 = listening_df.select('*').filter((listening_df.artist == 'Rihanna') & (listening_df.album == 'Loud')).select('user_id','track')"
   ]
  },
  {
   "cell_type": "code",
   "execution_count": 18,
   "id": "b7998456-424c-4cc2-8e90-b02e81416feb",
   "metadata": {},
   "outputs": [
    {
     "name": "stderr",
     "output_type": "stream",
     "text": [
      "[Stage 33:===================================================>      (8 + 1) / 9]\r"
     ]
    },
    {
     "name": "stdout",
     "output_type": "stream",
     "text": [
      "+--------------+--------------------+-------+--------------------+\n",
      "|       user_id|               track| artist|               album|\n",
      "+--------------+--------------------+-------+--------------------+\n",
      "|   000Silenced|           Disturbia|Rihanna|Good Girl Gone Ba...|\n",
      "|AaliyahCarmela| Where Have You Been|Rihanna|Talk That Talk (D...|\n",
      "|        abbiii|   Shut Up and Drive|Rihanna|  Good Girl Gone Bad|\n",
      "|     AdamBell1|Stay (feat Mikky ...|Rihanna|Unapologetic (Del...|\n",
      "|          adxx|   Same Ol’ Mistakes|Rihanna|                ANTI|\n",
      "|       adzee10|                Work|Rihanna|       ANTI (Deluxe)|\n",
      "|       Afromob|         Sex With Me|Rihanna|       ANTI (Deluxe)|\n",
      "|  alittlevoice| California King Bed|Rihanna|                Loud|\n",
      "|         amyrb|       Drunk on Love|Rihanna|Talk That Talk (D...|\n",
      "|ascendingstars|       Birthday Cake|Rihanna|Talk That Talk (E...|\n",
      "|      ashley84|      Wait Your Turn|Rihanna|             Rated R|\n",
      "|       auxbuss|Only Girl (In the...|Rihanna|       Loud (deluxe)|\n",
      "|      Bethan92|   Take A Bow (Main)|Rihanna|  Good Girl Gone Bad|\n",
      "|    Bethyboo11|           Disturbia|Rihanna|  Good Girl Gone Bad|\n",
      "| blackboab2004|Only Girl (In the...|Rihanna|                Loud|\n",
      "|         bnksy|          Take a Bow|Rihanna|Good Girl Gone Ba...|\n",
      "|      boneyboy|                Work|Rihanna|                ANTI|\n",
      "|     abbybeare|      Kiss it Better|Rihanna|                ANTI|\n",
      "|    acidbubble|We Found Love (fe...|Rihanna|We Found Love (fe...|\n",
      "|    AF-TNowell|       Consideration|Rihanna|                ANTI|\n",
      "+--------------+--------------------+-------+--------------------+\n",
      "only showing top 20 rows\n",
      "\n"
     ]
    },
    {
     "name": "stderr",
     "output_type": "stream",
     "text": [
      "                                                                                \r"
     ]
    }
   ],
   "source": [
    "q3.show()"
   ]
  },
  {
   "cell_type": "code",
   "execution_count": 19,
   "id": "4075fd70-13b4-4f13-b596-bd5f4f6a59eb",
   "metadata": {},
   "outputs": [
    {
     "name": "stderr",
     "output_type": "stream",
     "text": [
      "                                                                                \r"
     ]
    },
    {
     "data": {
      "text/plain": [
       "['BolaJA',\n",
       " 'abbyquinlan',\n",
       " 'abiprincess',\n",
       " 'AndrewTerry',\n",
       " 'aaronspud',\n",
       " 'adamnmcc',\n",
       " 'agentgypo',\n",
       " 'Bauldrick',\n",
       " 'boardy2',\n",
       " 'booksfromboxes_']"
      ]
     },
     "execution_count": 19,
     "metadata": {},
     "output_type": "execute_result"
    }
   ],
   "source": [
    "#to see all the values -> in pandas this will be q1.unique()\n",
    "#q1.select('user_id').distinct().rdd.flatMap(lambda x: x).collect()\n",
    "q3.select('user_id').distinct().limit(10).rdd.flatMap(lambda x: x).collect()"
   ]
  },
  {
   "cell_type": "markdown",
   "id": "7a54a8d5-58c7-4bf1-8acf-a98addced72d",
   "metadata": {},
   "source": [
    "### Q4: Lets find top 10 users who are fan of Rihanna"
   ]
  },
  {
   "cell_type": "code",
   "execution_count": 20,
   "id": "cb901f39-7093-4779-b54c-8742a549c922",
   "metadata": {},
   "outputs": [
    {
     "name": "stderr",
     "output_type": "stream",
     "text": [
      "[Stage 39:==========================================================(9 + 0) / 9]\r"
     ]
    },
    {
     "name": "stdout",
     "output_type": "stream",
     "text": [
      "+--------------+-----+\n",
      "|       user_id|count|\n",
      "+--------------+-----+\n",
      "|        iSkank|   62|\n",
      "|        folano|   53|\n",
      "|FrenchyEchelon|   52|\n",
      "|    BIGBANG186|   51|\n",
      "|       meeshii|   48|\n",
      "|Pinky_von_Pout|   47|\n",
      "| LisaGardner92|   46|\n",
      "|  FelineWonder|   44|\n",
      "| mikedennis_75|   43|\n",
      "|        warleh|   42|\n",
      "+--------------+-----+\n",
      "\n"
     ]
    },
    {
     "name": "stderr",
     "output_type": "stream",
     "text": [
      "                                                                                \r"
     ]
    }
   ],
   "source": [
    "'''spark.sql(\"\"\"\n",
    "    SELECT user_id, COUNT(user_id) AS count\n",
    "    FROM utilization\n",
    "    WHERE artist = 'Rihanna'\n",
    "    GROUP BY user_id\n",
    "    ORDER BY count DESC\n",
    "    LIMIT 10\n",
    "\"\"\").show()'''\n",
    "q4 = listening_df.select('user_id').filter(listening_df.artist == 'Rihanna').groupby('user_id').agg(count('user_id').alias('count')).orderBy(desc('count')).limit(10)\n",
    "q4.show()"
   ]
  },
  {
   "cell_type": "code",
   "execution_count": 21,
   "id": "37809fd7-c13d-4457-b2f2-afaca05e9339",
   "metadata": {},
   "outputs": [
    {
     "name": "stderr",
     "output_type": "stream",
     "text": [
      "                                                                                \r"
     ]
    },
    {
     "data": {
      "text/plain": [
       "<BarContainer object of 10 artists>"
      ]
     },
     "execution_count": 21,
     "metadata": {},
     "output_type": "execute_result"
    },
    {
     "data": {
      "image/png": "[encoded data removed]",
      "text/plain": [
       "<Figure size 640x480 with 1 Axes>"
      ]
     },
     "metadata": {},
     "output_type": "display_data"
    }
   ],
   "source": [
    "#plot the bar charts to shows the top 10 fans of Rihanna\n",
    "plt.barh(q4.toPandas()['user_id'],q4.toPandas()['count'])"
   ]
  },
  {
   "cell_type": "markdown",
   "id": "49b7ef19-ef76-48b7-b13e-b7e1ca51378d",
   "metadata": {},
   "source": [
    "### Q5. Find top 10 famous track"
   ]
  },
  {
   "cell_type": "code",
   "execution_count": 22,
   "id": "afb42326-6750-4381-800d-aebe479b063c",
   "metadata": {},
   "outputs": [],
   "source": [
    "q5 = listening_df.select('artist','track').groupBy('artist','track').agg(count('*').alias('count')).orderBy(desc('count')).limit(10)"
   ]
  },
  {
   "cell_type": "code",
   "execution_count": 23,
   "id": "e63768e3-3b3e-4eef-acdb-ccbdbe3b9278",
   "metadata": {},
   "outputs": [
    {
     "name": "stderr",
     "output_type": "stream",
     "text": [
      "[Stage 59:>                                                         (0 + 8) / 9]\r"
     ]
    },
    {
     "name": "stdout",
     "output_type": "stream",
     "text": [
      "+--------------------+--------------------+-----+\n",
      "|              artist|               track|count|\n",
      "+--------------------+--------------------+-----+\n",
      "|         The Killers|       Mr Brightside| 1828|\n",
      "|            Bon Iver|         Skinny Love| 1794|\n",
      "|       Fleetwood Mac|     Go Your Own Way| 1624|\n",
      "|       Justin Bieber|               Sorry| 1584|\n",
      "|Florence + the Ma...|   Dog Days Are Over| 1546|\n",
      "|      Arctic Monkeys|    Do I Wanna Know?| 1514|\n",
      "|      Arctic Monkeys|I Bet You Look Go...| 1502|\n",
      "|      Mumford & Sons|     Little Lion Man| 1460|\n",
      "|      Mumford & Sons|            The Cave| 1454|\n",
      "|           blink-182|All the Small Things| 1436|\n",
      "+--------------------+--------------------+-----+\n",
      "\n"
     ]
    },
    {
     "name": "stderr",
     "output_type": "stream",
     "text": [
      "                                                                                \r"
     ]
    }
   ],
   "source": [
    "#SQL Spark\n",
    "spark.sql(\"\"\"\n",
    "    SELECT artist, track, COUNT(*) AS count\n",
    "    FROM utilization\n",
    "    GROUP BY artist, track\n",
    "    ORDER BY count DESC\n",
    "    LIMIT 10\n",
    "\"\"\").show()"
   ]
  },
  {
   "cell_type": "code",
   "execution_count": 24,
   "id": "e406893e-621b-43e5-8e31-ae68855330ef",
   "metadata": {},
   "outputs": [
    {
     "name": "stderr",
     "output_type": "stream",
     "text": [
      "[Stage 65:>                                                         (0 + 8) / 9]\r"
     ]
    },
    {
     "name": "stdout",
     "output_type": "stream",
     "text": [
      "+--------------------+--------------------+-----+\n",
      "|              artist|               track|count|\n",
      "+--------------------+--------------------+-----+\n",
      "|         The Killers|       Mr Brightside| 1828|\n",
      "|            Bon Iver|         Skinny Love| 1794|\n",
      "|       Fleetwood Mac|     Go Your Own Way| 1624|\n",
      "|       Justin Bieber|               Sorry| 1584|\n",
      "|Florence + the Ma...|   Dog Days Are Over| 1546|\n",
      "|      Arctic Monkeys|    Do I Wanna Know?| 1514|\n",
      "|      Arctic Monkeys|I Bet You Look Go...| 1502|\n",
      "|      Mumford & Sons|     Little Lion Man| 1460|\n",
      "|      Mumford & Sons|            The Cave| 1454|\n",
      "|           blink-182|All the Small Things| 1436|\n",
      "+--------------------+--------------------+-----+\n",
      "\n"
     ]
    },
    {
     "name": "stderr",
     "output_type": "stream",
     "text": [
      "                                                                                \r"
     ]
    }
   ],
   "source": [
    "q5.show()"
   ]
  },
  {
   "cell_type": "code",
   "execution_count": 25,
   "id": "111f81b2-9eb8-46fe-8976-4fe862963cfb",
   "metadata": {},
   "outputs": [
    {
     "name": "stderr",
     "output_type": "stream",
     "text": [
      "                                                                                \r"
     ]
    },
    {
     "data": {
      "image/png": "[encoded data removed]",
      "text/plain": [
       "<Figure size 640x480 with 1 Axes>"
      ]
     },
     "metadata": {},
     "output_type": "display_data"
    }
   ],
   "source": [
    "# Get the data from the DataFrame\n",
    "a1 = q5.select('artist').toPandas()['artist']\n",
    "a2 = q5.select('track').toPandas()['track']\n",
    "a3 = q5.select('count').toPandas()['count']\n",
    "\n",
    "# Create a horizontal bar chart\n",
    "plt.barh(range(len(a1)), a3)\n",
    "\n",
    "# Customize the chart\n",
    "plt.yticks(range(len(a1)), zip(a1, a2))\n",
    "plt.xlabel('Count')\n",
    "plt.ylabel('Artist - Track')\n",
    "plt.title('Top Artists and Tracks')\n",
    "\n",
    "# Display the chart\n",
    "plt.show()"
   ]
  },
  {
   "cell_type": "markdown",
   "id": "a298c4c4-2ec2-4444-8338-43cacd09ebf0",
   "metadata": {},
   "source": [
    "### Q6. Find top 10 famous track of Rihanna"
   ]
  },
  {
   "cell_type": "code",
   "execution_count": 26,
   "id": "8082dde9-6002-4d5c-9cae-c3d95a211afe",
   "metadata": {},
   "outputs": [],
   "source": [
    "q6 = listening_df.select('artist','track').filter(listening_df.artist == 'Rihanna').groupBy('artist','track').agg(count('*').alias('count')).orderBy(desc('count')).limit(10)"
   ]
  },
  {
   "cell_type": "code",
   "execution_count": 27,
   "id": "c4770f13-6679-4c45-a178-18c89740158b",
   "metadata": {},
   "outputs": [
    {
     "name": "stderr",
     "output_type": "stream",
     "text": [
      "[Stage 84:===================================================>      (8 + 1) / 9]\r"
     ]
    },
    {
     "name": "stdout",
     "output_type": "stream",
     "text": [
      "+-------+--------------------+-----+\n",
      "| artist|               track|count|\n",
      "+-------+--------------------+-----+\n",
      "|Rihanna|                Work| 1151|\n",
      "|Rihanna|Only Girl (In the...|  866|\n",
      "|Rihanna|We Found Love (fe...|  797|\n",
      "|Rihanna|            Rude Boy|  751|\n",
      "|Rihanna|                 S&M|  738|\n",
      "|Rihanna|            Diamonds|  612|\n",
      "|Rihanna| Where Have You Been|  493|\n",
      "|Rihanna|           Disturbia|  443|\n",
      "|Rihanna|            Umbrella|  409|\n",
      "|Rihanna|      Kiss it Better|  389|\n",
      "+-------+--------------------+-----+\n",
      "\n"
     ]
    },
    {
     "name": "stderr",
     "output_type": "stream",
     "text": [
      "                                                                                \r"
     ]
    }
   ],
   "source": [
    "#SQL Spark\n",
    "spark.sql(\"\"\"\n",
    "    SELECT artist, track, COUNT(*) AS count\n",
    "    FROM utilization\n",
    "    where artist == 'Rihanna'\n",
    "    GROUP BY artist, track\n",
    "    ORDER BY count DESC\n",
    "    LIMIT 10\n",
    "\"\"\").show()"
   ]
  },
  {
   "cell_type": "code",
   "execution_count": 28,
   "id": "7ccaf975-5858-4094-8ab2-18e2dc8ed1b4",
   "metadata": {},
   "outputs": [
    {
     "name": "stderr",
     "output_type": "stream",
     "text": [
      "[Stage 90:===================================================>      (8 + 1) / 9]\r"
     ]
    },
    {
     "name": "stdout",
     "output_type": "stream",
     "text": [
      "+-------+--------------------+-----+\n",
      "| artist|               track|count|\n",
      "+-------+--------------------+-----+\n",
      "|Rihanna|                Work| 1151|\n",
      "|Rihanna|Only Girl (In the...|  866|\n",
      "|Rihanna|We Found Love (fe...|  797|\n",
      "|Rihanna|            Rude Boy|  751|\n",
      "|Rihanna|                 S&M|  738|\n",
      "|Rihanna|            Diamonds|  612|\n",
      "|Rihanna| Where Have You Been|  493|\n",
      "|Rihanna|           Disturbia|  443|\n",
      "|Rihanna|            Umbrella|  409|\n",
      "|Rihanna|      Kiss it Better|  389|\n",
      "+-------+--------------------+-----+\n",
      "\n"
     ]
    },
    {
     "name": "stderr",
     "output_type": "stream",
     "text": [
      "                                                                                \r"
     ]
    }
   ],
   "source": [
    "q6.show() "
   ]
  },
  {
   "cell_type": "markdown",
   "id": "f02a0ef2-3632-4efb-985f-a098bb5a64c6",
   "metadata": {},
   "source": [
    "### Q7. Find top 10 famous album"
   ]
  },
  {
   "cell_type": "code",
   "execution_count": 29,
   "id": "3cef8ac0-e1c6-4d69-98c5-d3d1ad7da184",
   "metadata": {},
   "outputs": [],
   "source": [
    "q7 = listening_df.select('artist','album').groupBy('artist','album').agg(count('*').alias('count')).orderBy(desc('count')).limit(10)"
   ]
  },
  {
   "cell_type": "code",
   "execution_count": 30,
   "id": "e7243995-5b39-4ba7-afe8-f2f79b3fd34a",
   "metadata": {},
   "outputs": [
    {
     "name": "stderr",
     "output_type": "stream",
     "text": [
      "[Stage 98:====================================>                    (9 + 5) / 14]\r"
     ]
    },
    {
     "name": "stdout",
     "output_type": "stream",
     "text": [
      "+--------------------+--------------------+-----+\n",
      "|              artist|               album|count|\n",
      "+--------------------+--------------------+-----+\n",
      "|          Kanye West|   The Life Of Pablo|11428|\n",
      "|      Arctic Monkeys|Whatever People S...| 9232|\n",
      "|              The xx|                  xx| 8928|\n",
      "|      Mumford & Sons|        Sigh No More| 8474|\n",
      "|            Bon Iver|            For Emma| 8293|\n",
      "|               alt-J|     An Awesome Wave| 8216|\n",
      "|      Arctic Monkeys|                  AM| 7954|\n",
      "|Florence + the Ma...|               Lungs| 7523|\n",
      "|         Arcade Fire|         The Suburbs| 6823|\n",
      "|               Adele|                  21| 6757|\n",
      "+--------------------+--------------------+-----+\n",
      "\n"
     ]
    },
    {
     "name": "stderr",
     "output_type": "stream",
     "text": [
      "                                                                                \r"
     ]
    }
   ],
   "source": [
    "q7.show()"
   ]
  },
  {
   "cell_type": "markdown",
   "id": "15af15f0-308d-4f22-9fcb-2e596f9b8a46",
   "metadata": {},
   "source": [
    "### Reading the new 'genres.csv' file"
   ]
  },
  {
   "cell_type": "code",
   "execution_count": 31,
   "id": "2be63bc0-0a24-47ff-8fff-45399f592b5f",
   "metadata": {},
   "outputs": [],
   "source": [
    "genre_df = spark.read.format('csv').option('inferSchema',True).option('header',True).load('genre.csv')"
   ]
  },
  {
   "cell_type": "code",
   "execution_count": 32,
   "id": "ad132c92-2ef3-4ae1-bb60-eee46a17eec2",
   "metadata": {},
   "outputs": [
    {
     "name": "stdout",
     "output_type": "stream",
     "text": [
      "+--------------------+-----+\n",
      "|              artist|genre|\n",
      "+--------------------+-----+\n",
      "|                Muse| rock|\n",
      "|             Nirvana| rock|\n",
      "|            Bon Jovi| rock|\n",
      "|          The Police| rock|\n",
      "|                Kiss| rock|\n",
      "|       Guns N' Roses| rock|\n",
      "|         Rusted Root| rock|\n",
      "|Katrina and the W...|  pop|\n",
      "|         The Beatles| rock|\n",
      "|        Hall & Oates|  pop|\n",
      "|        Otis Redding| soul|\n",
      "|         Marvin Gaye| soul|\n",
      "|     The Cranberries| rock|\n",
      "|            Survivor| rock|\n",
      "|       Fleetwood Mac|blues|\n",
      "|           Radiohead| rock|\n",
      "|                Toto| rock|\n",
      "|                  U2| rock|\n",
      "|Creedence Clearwa...| rock|\n",
      "|                 REM| rock|\n",
      "+--------------------+-----+\n",
      "only showing top 20 rows\n",
      "\n"
     ]
    }
   ],
   "source": [
    "genre_df.show()"
   ]
  },
  {
   "cell_type": "code",
   "execution_count": 33,
   "id": "b42626b5-9cbe-4712-9f38-9567912e4fa4",
   "metadata": {},
   "outputs": [
    {
     "name": "stderr",
     "output_type": "stream",
     "text": [
      "[Stage 105:>                                                        (0 + 1) / 1]\r"
     ]
    },
    {
     "name": "stdout",
     "output_type": "stream",
     "text": [
      "+-------+------------------+------------------+\n",
      "|summary|            artist|             genre|\n",
      "+-------+------------------+------------------+\n",
      "|  count|            138432|            138415|\n",
      "|   mean|          Infinity|1.6666666666666667|\n",
      "| stddev|               NaN|1.5275252316519468|\n",
      "|    min| Sydney Youngblood|                  |\n",
      "|    max|        ｍｏｃｈＡ|            성유진|\n",
      "+-------+------------------+------------------+\n",
      "\n"
     ]
    },
    {
     "name": "stderr",
     "output_type": "stream",
     "text": [
      "                                                                                \r"
     ]
    }
   ],
   "source": [
    "genre_df.describe().show()"
   ]
  },
  {
   "cell_type": "code",
   "execution_count": 34,
   "id": "4ea9f29d-4ba3-4dea-8993-cb3453e25f22",
   "metadata": {},
   "outputs": [
    {
     "name": "stdout",
     "output_type": "stream",
     "text": [
      "+------+-----+\n",
      "|artist|genre|\n",
      "+------+-----+\n",
      "|     0|   17|\n",
      "+------+-----+\n",
      "\n"
     ]
    }
   ],
   "source": [
    "genre_df.select([count(when(isnan(c) | col(c).isNull(), c)).alias(c) for c in genre_df.columns]).show()"
   ]
  },
  {
   "cell_type": "code",
   "execution_count": 35,
   "id": "82ec4940-3179-46e9-a0d8-d27fdc571c81",
   "metadata": {},
   "outputs": [],
   "source": [
    "#drop the rows that has NaN and drop the Duplicates\n",
    "genre_df = genre_df.na.drop(how='any')\n",
    "genre_df = genre_df.dropDuplicates()"
   ]
  },
  {
   "cell_type": "code",
   "execution_count": 36,
   "id": "dd7eb9f1-d39e-4c0e-b0c7-4e5aee3ff8f6",
   "metadata": {},
   "outputs": [
    {
     "name": "stdout",
     "output_type": "stream",
     "text": [
      "+------+-----+\n",
      "|artist|genre|\n",
      "+------+-----+\n",
      "|     0|    0|\n",
      "+------+-----+\n",
      "\n"
     ]
    }
   ],
   "source": [
    "genre_df.select([count(when(isnan(c) | col(c).isNull(), c)).alias(c) for c in genre_df.columns]).show()"
   ]
  },
  {
   "cell_type": "code",
   "execution_count": 37,
   "id": "665107d4-9e11-4466-8198-f629fda310dd",
   "metadata": {},
   "outputs": [
    {
     "name": "stderr",
     "output_type": "stream",
     "text": [
      "[Stage 119:>                                                        (0 + 4) / 4]\r"
     ]
    },
    {
     "name": "stdout",
     "output_type": "stream",
     "text": [
      "+-------+------------------+------------------+\n",
      "|summary|            artist|             genre|\n",
      "+-------+------------------+------------------+\n",
      "|  count|            137881|            137881|\n",
      "|   mean|          Infinity|1.6666666666666667|\n",
      "| stddev|               NaN|1.5275252316519465|\n",
      "|    min| Sydney Youngblood|                  |\n",
      "|    max|        ｍｏｃｈＡ|            성유진|\n",
      "+-------+------------------+------------------+\n",
      "\n"
     ]
    },
    {
     "name": "stderr",
     "output_type": "stream",
     "text": [
      "                                                                                \r"
     ]
    }
   ],
   "source": [
    "genre_df.describe().show()"
   ]
  },
  {
   "cell_type": "code",
   "execution_count": 38,
   "id": "7bc6b746-03a3-4a27-8da5-f3c9fd0f0b32",
   "metadata": {},
   "outputs": [],
   "source": [
    "genre_df.createOrReplaceTempView(\"genre\")"
   ]
  },
  {
   "cell_type": "markdown",
   "id": "3e18428d-114a-4b87-ba87-c50f516d14aa",
   "metadata": {},
   "source": [
    "- Join with the previous csv file with the inner join column 'artist'"
   ]
  },
  {
   "cell_type": "code",
   "execution_count": 39,
   "id": "8e06669f-612a-4aeb-b48c-d70261c5c848",
   "metadata": {},
   "outputs": [],
   "source": [
    "df = listening_df.join(genre_df, how = 'inner', on = ['artist']) "
   ]
  },
  {
   "cell_type": "code",
   "execution_count": 40,
   "id": "5aa19b82-1a0d-4e75-bba4-e1ffcfe78d10",
   "metadata": {},
   "outputs": [
    {
     "name": "stderr",
     "output_type": "stream",
     "text": [
      "                                                                                \r"
     ]
    },
    {
     "name": "stdout",
     "output_type": "stream",
     "text": [
      "+--------------------+---------------+--------------------+--------------------+--------------------+\n",
      "|              artist|        user_id|               track|               album|               genre|\n",
      "+--------------------+---------------+--------------------+--------------------+--------------------+\n",
      "|      Above & Beyond|beast_of_burden|#285 Trance Aroun...|Above & Beyond: T...| Gareth Emery & O...|\n",
      "|             william|  burntheaction|          #thatPOWER|          #thatPOWER|                 rap|\n",
      "|        The Connells|          beggz|             '74-'75|                Ring|          jangle pop|\n",
      "|       Adebisi Shank|        anuragT|               (-_-)|This is the secon...|                rock|\n",
      "|Thunderbirds Are ...| Brand_New_Hero|(Aquatic Cupid's)...|       Justamustache|            new wave|\n",
      "|    Blue Öyster Cult|       buckbeak|(Don't Fear) The ...|The Essential Blu...|                rock|\n",
      "|    Blue Öyster Cult|         Akuzed|(Don't Fear) The ...|Shaun White Snowb...|                rock|\n",
      "|Noel Gallagher's ...|   ascendancy18|(I Wanna Live in ...|Noel Gallagher's ...|                rock|\n",
      "|           Peggy Sue|       beck_tay|(Love Is Like A) ...|Peggy Sue Play Th...|               blues|\n",
      "|                DIIV|     BenzoMay44|              (Napa)|       Is the Is Are|            shoegaze|\n",
      "|        Shania Twain|       Benji_En|(Wanna Get To Kno...|                 Up!|             country|\n",
      "|       Elvis Presley|   BertaWooster|(You're The) Devi...|   Elvis: 30 #1 Hits|                rock|\n",
      "|       Jackie Wilson| bossanova-baby|(Your Love Keeps ...|       Soul Classics|                 r&b|\n",
      "|           Kurt Vile|      benjwoods|    (so outta reach)|      So Outta Reach|               lo-fi|\n",
      "|                Mika|        alk3-mh|01 - Mika - Grace...|Life in Cartoon M...|                 pop|\n",
      "|      Mulatu Astatke|  backatmycliff|02 Mètché Dershé ...|Éthiopiques Vol 4...|                jazz|\n",
      "|           Metallica|  andrewgatenby|02 The End of the...|      Death Magnetic|                rock|\n",
      "|           Metallica|  andrewgatenby|02 The End of the...|      Death Magnetic| Michael Kamen & ...|\n",
      "|           Metallica|  andrewgatenby|02 The End of the...|      Death Magnetic| Michael Kamen & ...|\n",
      "|       Elliott Smith|    BazAkehurst|          03 Angeles|1997-04-12 - Terr...|                rock|\n",
      "+--------------------+---------------+--------------------+--------------------+--------------------+\n",
      "only showing top 20 rows\n",
      "\n"
     ]
    }
   ],
   "source": [
    "df.show()"
   ]
  },
  {
   "cell_type": "code",
   "execution_count": 41,
   "id": "da053779-e42c-46e7-a8ed-fbc50ec942f2",
   "metadata": {},
   "outputs": [
    {
     "name": "stderr",
     "output_type": "stream",
     "text": [
      "                                                                                \r"
     ]
    },
    {
     "name": "stdout",
     "output_type": "stream",
     "text": [
      "+---------------+--------------------+--------------------+--------------------+--------------------+--------------------+\n",
      "|        user_id|               track|              artist|               album|              artist|               genre|\n",
      "+---------------+--------------------+--------------------+--------------------+--------------------+--------------------+\n",
      "|beast_of_burden|#285 Trance Aroun...|      Above & Beyond|Above & Beyond: T...|      Above & Beyond| Gareth Emery & O...|\n",
      "|  burntheaction|          #thatPOWER|             william|          #thatPOWER|             william|                 rap|\n",
      "|          beggz|             '74-'75|        The Connells|                Ring|        The Connells|          jangle pop|\n",
      "|        anuragT|               (-_-)|       Adebisi Shank|This is the secon...|       Adebisi Shank|                rock|\n",
      "| Brand_New_Hero|(Aquatic Cupid's)...|Thunderbirds Are ...|       Justamustache|Thunderbirds Are ...|            new wave|\n",
      "|       buckbeak|(Don't Fear) The ...|    Blue Öyster Cult|The Essential Blu...|    Blue Öyster Cult|                rock|\n",
      "|         Akuzed|(Don't Fear) The ...|    Blue Öyster Cult|Shaun White Snowb...|    Blue Öyster Cult|                rock|\n",
      "|   ascendancy18|(I Wanna Live in ...|Noel Gallagher's ...|Noel Gallagher's ...|Noel Gallagher's ...|                rock|\n",
      "|       beck_tay|(Love Is Like A) ...|           Peggy Sue|Peggy Sue Play Th...|           Peggy Sue|               blues|\n",
      "|     BenzoMay44|              (Napa)|                DIIV|       Is the Is Are|                DIIV|            shoegaze|\n",
      "|       Benji_En|(Wanna Get To Kno...|        Shania Twain|                 Up!|        Shania Twain|             country|\n",
      "|   BertaWooster|(You're The) Devi...|       Elvis Presley|   Elvis: 30 #1 Hits|       Elvis Presley|                rock|\n",
      "| bossanova-baby|(Your Love Keeps ...|       Jackie Wilson|       Soul Classics|       Jackie Wilson|                 r&b|\n",
      "|      benjwoods|    (so outta reach)|           Kurt Vile|      So Outta Reach|           Kurt Vile|               lo-fi|\n",
      "|        alk3-mh|01 - Mika - Grace...|                Mika|Life in Cartoon M...|                Mika|                 pop|\n",
      "|  backatmycliff|02 Mètché Dershé ...|      Mulatu Astatke|Éthiopiques Vol 4...|      Mulatu Astatke|                jazz|\n",
      "|  andrewgatenby|02 The End of the...|           Metallica|      Death Magnetic|           Metallica|                rock|\n",
      "|  andrewgatenby|02 The End of the...|           Metallica|      Death Magnetic|           Metallica| Michael Kamen & ...|\n",
      "|  andrewgatenby|02 The End of the...|           Metallica|      Death Magnetic|           Metallica| Michael Kamen & ...|\n",
      "|    BazAkehurst|          03 Angeles|       Elliott Smith|1997-04-12 - Terr...|       Elliott Smith|                rock|\n",
      "+---------------+--------------------+--------------------+--------------------+--------------------+--------------------+\n",
      "only showing top 20 rows\n",
      "\n"
     ]
    }
   ],
   "source": [
    "spark.sql(\"\"\"\n",
    "    SELECT *\n",
    "    FROM utilization\n",
    "    INNER JOIN genre\n",
    "    ON utilization.artist = genre.artist\n",
    "\"\"\").show()"
   ]
  },
  {
   "cell_type": "markdown",
   "id": "b33e9de4-afc9-417b-8576-c236deb1d393",
   "metadata": {},
   "source": [
    "### Q8. Find top 10 useres who are fan of pop music"
   ]
  },
  {
   "cell_type": "code",
   "execution_count": 42,
   "id": "c7015595-24a3-45f2-a106-083b2656e145",
   "metadata": {},
   "outputs": [],
   "source": [
    "q8 = df.select('user_id').filter(df.genre == 'pop').groupby('user_id').agg(count('*').alias('count')).orderBy(desc('count')).limit(10)"
   ]
  },
  {
   "cell_type": "code",
   "execution_count": 43,
   "id": "36eb2056-3807-432c-b3f0-165dea332ab5",
   "metadata": {},
   "outputs": [
    {
     "name": "stderr",
     "output_type": "stream",
     "text": [
      "[Stage 140:=======================================>               (10 + 4) / 14]\r"
     ]
    },
    {
     "name": "stdout",
     "output_type": "stream",
     "text": [
      "+--------------+-----+\n",
      "|       user_id|count|\n",
      "+--------------+-----+\n",
      "|  michaelm1987|  183|\n",
      "|   PartySanCTG|  179|\n",
      "|arlenamarshall|  164|\n",
      "|      lukes269|  162|\n",
      "|  CalumDarroch|  159|\n",
      "|        caz119|  158|\n",
      "|ElektricOrchid|  158|\n",
      "|   HowSpiffing|  158|\n",
      "| Brandon061033|  156|\n",
      "|         DJH30|  152|\n",
      "+--------------+-----+\n",
      "\n"
     ]
    },
    {
     "name": "stderr",
     "output_type": "stream",
     "text": [
      "                                                                                \r"
     ]
    }
   ],
   "source": [
    "q8.show()"
   ]
  },
  {
   "cell_type": "markdown",
   "id": "1c3d7c99-1cd4-423e-9bab-aa0fff12bc8d",
   "metadata": {},
   "source": [
    "### Q9.Find top 10 famous genre"
   ]
  },
  {
   "cell_type": "code",
   "execution_count": 44,
   "id": "941a21ae-30ab-42f7-8d86-45cf8aabaf09",
   "metadata": {},
   "outputs": [],
   "source": [
    "q9 = df.select('genre').groupby('genre').agg(count('*').alias('count')).orderBy(desc('count')).limit(10)"
   ]
  },
  {
   "cell_type": "code",
   "execution_count": 45,
   "id": "a18a7348-1654-4afc-af24-245c1273e8cd",
   "metadata": {},
   "outputs": [
    {
     "name": "stderr",
     "output_type": "stream",
     "text": [
      "[Stage 149:====================================>                   (9 + 5) / 14]\r"
     ]
    },
    {
     "name": "stdout",
     "output_type": "stream",
     "text": [
      "+----------+-------+\n",
      "|     genre|  count|\n",
      "+----------+-------+\n",
      "|      rock|1997782|\n",
      "|       pop|1033027|\n",
      "|electronic| 384363|\n",
      "|   hip hop| 382993|\n",
      "|      folk| 316953|\n",
      "|indie rock| 314772|\n",
      "|      punk| 288078|\n",
      "|       r&b| 152387|\n",
      "|     metal| 148844|\n",
      "|     indie| 144074|\n",
      "+----------+-------+\n",
      "\n"
     ]
    },
    {
     "name": "stderr",
     "output_type": "stream",
     "text": [
      "                                                                                \r"
     ]
    }
   ],
   "source": [
    "q9.show()"
   ]
  },
  {
   "cell_type": "markdown",
   "id": "bc2046e3-0873-4590-a6bf-473a748cd75e",
   "metadata": {},
   "source": [
    "### Q10.  Find out each user favourite genre"
   ]
  },
  {
   "cell_type": "code",
   "execution_count": 46,
   "id": "3e0a0116-25a3-4489-b367-06cd4f321926",
   "metadata": {},
   "outputs": [],
   "source": [
    "q10 = df.select('user_id','genre').groupby('user_id','genre').agg(count('*').alias('count')).orderBy(desc('user_id'))"
   ]
  },
  {
   "cell_type": "code",
   "execution_count": 47,
   "id": "c15354c1-48e0-48d3-911b-9cbedfdf22ef",
   "metadata": {},
   "outputs": [
    {
     "name": "stderr",
     "output_type": "stream",
     "text": [
      "[Stage 161:>                                                        (0 + 8) / 9]\r"
     ]
    },
    {
     "name": "stdout",
     "output_type": "stream",
     "text": [
      "+-------+--------------------+-----+\n",
      "|user_id|               genre|count|\n",
      "+-------+--------------------+-----+\n",
      "|zzzzita|             country|    1|\n",
      "|zzzzita| T-Bone Walker & ...|    5|\n",
      "|zzzzita| General MDShirin...|    1|\n",
      "|zzzzita|             Jeremih|    1|\n",
      "|zzzzita|    Charlotte Savary|    1|\n",
      "|zzzzita|      Sikh Knowledge|    4|\n",
      "|zzzzita|          The Others|    1|\n",
      "|zzzzita|         Miho Hatori|    1|\n",
      "|zzzzita|          space rock|    1|\n",
      "|zzzzita| Del tha Funkee H...|    1|\n",
      "|zzzzita|           downtempo|    5|\n",
      "|zzzzita|              comedy|    2|\n",
      "|zzzzita|          electronic|    9|\n",
      "|zzzzita|                 dub|    7|\n",
      "|zzzzita|    psychedelic rock|    1|\n",
      "|zzzzita|   singer-songwriter|   18|\n",
      "|zzzzita|              reggae|   25|\n",
      "|zzzzita|         electronica|    5|\n",
      "|zzzzita|           John Cale|    1|\n",
      "|zzzzita|             hip hop|   49|\n",
      "+-------+--------------------+-----+\n",
      "only showing top 20 rows\n",
      "\n"
     ]
    },
    {
     "name": "stderr",
     "output_type": "stream",
     "text": [
      "                                                                                \r"
     ]
    }
   ],
   "source": [
    "q10.show()"
   ]
  },
  {
   "cell_type": "code",
   "execution_count": 48,
   "id": "415c4727-678e-479e-b874-8abfa5de57de",
   "metadata": {},
   "outputs": [],
   "source": [
    "q10_2 = q9.groupby('user_id').agg(max(struct(col('count'),col('genre'))).alias('max')).select(col('user_id'),col('max.genre'))"
   ]
  },
  {
   "cell_type": "code",
   "execution_count": 49,
   "id": "9acb4654-cff1-4299-9236-5bbd4c95590f",
   "metadata": {},
   "outputs": [
    {
     "name": "stderr",
     "output_type": "stream",
     "text": [
      "[Stage 170:==================================================>      (8 + 1) / 9]\r"
     ]
    },
    {
     "name": "stdout",
     "output_type": "stream",
     "text": [
      "+---------------+----------------+\n",
      "|        user_id|           genre|\n",
      "+---------------+----------------+\n",
      "|      --Shinn--|            rock|\n",
      "|          -DeWp|         hip hop|\n",
      "|        -Gemma-|      indie rock|\n",
      "|   -Gingergirl-|abstract hip hop|\n",
      "| -SleepingStar-|     black metal|\n",
      "|-invinoveritas-|          comedy|\n",
      "|         -laura|             rap|\n",
      "|         -wasp-|            rock|\n",
      "|   -x-kelsey-x-|             pop|\n",
      "|        00Lemon|            rock|\n",
      "|      00fieldsy|            rock|\n",
      "|     01higginsr|         hip hop|\n",
      "|      03swalker|            rock|\n",
      "|        0503611|            rock|\n",
      "|        0Chris0|            rock|\n",
      "|        0Laura0|      industrial|\n",
      "|         0ptriX|            rock|\n",
      "|    12thmarquis|            rock|\n",
      "|           1936|      electronic|\n",
      "|        1Marley|             r&b|\n",
      "+---------------+----------------+\n",
      "only showing top 20 rows\n",
      "\n"
     ]
    },
    {
     "name": "stderr",
     "output_type": "stream",
     "text": [
      "                                                                                \r"
     ]
    }
   ],
   "source": [
    "q10_2.show()"
   ]
  },
  {
   "cell_type": "code",
   "execution_count": 50,
   "id": "f16fd426-3b59-47e1-abd5-cae6ff4bc94d",
   "metadata": {},
   "outputs": [],
   "source": [
    "#q8.groupby('user_id').agg(max(struct(col('count'),col('genre'))).alias('max')).show()"
   ]
  },
  {
   "cell_type": "markdown",
   "id": "5efd5e55-1fe7-4a16-86ff-985bbdbf544a",
   "metadata": {},
   "source": [
    "### Q11 : Find out how many pop, rock, metal and hip hop singers we have and then visualize it using the bar chart"
   ]
  },
  {
   "cell_type": "code",
   "execution_count": 51,
   "id": "9283aaec-bdf7-474f-859e-c6d8df326710",
   "metadata": {},
   "outputs": [],
   "source": [
    "# Perform value counts\n",
    "q11 = genre_df.filter(genre_df.genre.isin('rock', 'pop', 'metal', 'hip hop')) \\\n",
    "                      .groupby('genre') \\\n",
    "                      .agg(count('*').alias('count'))"
   ]
  },
  {
   "cell_type": "code",
   "execution_count": 52,
   "id": "e09182a1-c2ad-48d6-9bc0-0018577d012a",
   "metadata": {},
   "outputs": [
    {
     "name": "stdout",
     "output_type": "stream",
     "text": [
      "+-------+-----+\n",
      "|  genre|count|\n",
      "+-------+-----+\n",
      "|    pop| 6920|\n",
      "|hip hop| 4286|\n",
      "|  metal| 1854|\n",
      "|   rock| 9043|\n",
      "+-------+-----+\n",
      "\n"
     ]
    }
   ],
   "source": [
    "q11.show()"
   ]
  },
  {
   "cell_type": "code",
   "execution_count": 53,
   "id": "fb95f0a2-aa25-4ee7-9d61-516f77382efd",
   "metadata": {},
   "outputs": [
    {
     "data": {
      "text/html": [
       "<div>\n",
       "<style scoped>\n",
       "    .dataframe tbody tr th:only-of-type {\n",
       "        vertical-align: middle;\n",
       "    }\n",
       "\n",
       "    .dataframe tbody tr th {\n",
       "        vertical-align: top;\n",
       "    }\n",
       "\n",
       "    .dataframe thead th {\n",
       "        text-align: right;\n",
       "    }\n",
       "</style>\n",
       "<table border=\"1\" class=\"dataframe\">\n",
       "  <thead>\n",
       "    <tr style=\"text-align: right;\">\n",
       "      <th></th>\n",
       "      <th>genre</th>\n",
       "      <th>count</th>\n",
       "    </tr>\n",
       "  </thead>\n",
       "  <tbody>\n",
       "    <tr>\n",
       "      <th>0</th>\n",
       "      <td>pop</td>\n",
       "      <td>6920</td>\n",
       "    </tr>\n",
       "    <tr>\n",
       "      <th>1</th>\n",
       "      <td>hip hop</td>\n",
       "      <td>4286</td>\n",
       "    </tr>\n",
       "    <tr>\n",
       "      <th>2</th>\n",
       "      <td>metal</td>\n",
       "      <td>1854</td>\n",
       "    </tr>\n",
       "    <tr>\n",
       "      <th>3</th>\n",
       "      <td>rock</td>\n",
       "      <td>9043</td>\n",
       "    </tr>\n",
       "  </tbody>\n",
       "</table>\n",
       "</div>"
      ],
      "text/plain": [
       "     genre  count\n",
       "0      pop   6920\n",
       "1  hip hop   4286\n",
       "2    metal   1854\n",
       "3     rock   9043"
      ]
     },
     "execution_count": 53,
     "metadata": {},
     "output_type": "execute_result"
    }
   ],
   "source": [
    "q11.toPandas()"
   ]
  },
  {
   "cell_type": "code",
   "execution_count": 54,
   "id": "e8ff3302-e994-4856-a7b2-573419187f98",
   "metadata": {},
   "outputs": [
    {
     "data": {
      "text/plain": [
       "<BarContainer object of 4 artists>"
      ]
     },
     "execution_count": 54,
     "metadata": {},
     "output_type": "execute_result"
    },
    {
     "data": {
      "image/png": "[encoded data removed]",
      "text/plain": [
       "<Figure size 640x480 with 1 Axes>"
      ]
     },
     "metadata": {},
     "output_type": "display_data"
    }
   ],
   "source": [
    "plt.bar(q11.toPandas()['genre'],q11.toPandas()['count'])"
   ]
  }
 ],
 "metadata": {
  "kernelspec": {
   "display_name": "Python 3 (ipykernel)",
   "language": "python",
   "name": "python3"
  },
  "language_info": {
   "codemirror_mode": {
    "name": "ipython",
    "version": 3
   },
   "file_extension": ".py",
   "mimetype": "text/x-python",
   "name": "python",
   "nbconvert_exporter": "python",
   "pygments_lexer": "ipython3",
   "version": "3.11.1"
  }
 },
 "nbformat": 4,
 "nbformat_minor": 5
}
